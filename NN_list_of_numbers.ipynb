{
  "nbformat": 4,
  "nbformat_minor": 0,
  "metadata": {
    "colab": {
      "name": "Untitled2.ipynb",
      "version": "0.3.2",
      "provenance": [],
      "include_colab_link": true
    },
    "kernelspec": {
      "name": "python3",
      "display_name": "Python 3"
    }
  },
  "cells": [
    {
      "cell_type": "markdown",
      "metadata": {
        "id": "view-in-github",
        "colab_type": "text"
      },
      "source": [
        "<a href=\"https://colab.research.google.com/github/antoniolamadeu/tensorflow_google_colab/blob/master/NN_list_of_numbers.ipynb\" target=\"_parent\"><img src=\"https://colab.research.google.com/assets/colab-badge.svg\" alt=\"Open In Colab\"/></a>"
      ]
    },
    {
      "cell_type": "markdown",
      "metadata": {
        "id": "vxETKqKAiH64",
        "colab_type": "text"
      },
      "source": [
        "Exercise 1 of Tensorflow specialization\n",
        "A one layer, one neuron neural network to predict a number sequence.\n",
        "\n",
        "First, import tensorflow, numpy and keras"
      ]
    },
    {
      "cell_type": "markdown",
      "metadata": {
        "id": "pVGMj-JziGBw",
        "colab_type": "text"
      },
      "source": [
        ""
      ]
    },
    {
      "cell_type": "code",
      "metadata": {
        "id": "Xj8I7DydiNwh",
        "colab_type": "code",
        "colab": {}
      },
      "source": [
        "import tensorflow as tf\n",
        "import numpy as np\n",
        "from tensorflow import keras"
      ],
      "execution_count": 0,
      "outputs": []
    },
    {
      "cell_type": "markdown",
      "metadata": {
        "id": "qnoA7EmLiQ-y",
        "colab_type": "text"
      },
      "source": [
        "Now, define the neural network with Dense (layers) = 1 and input_shape(neuron) = 1."
      ]
    },
    {
      "cell_type": "code",
      "metadata": {
        "id": "pp-zR52vifQS",
        "colab_type": "code",
        "colab": {}
      },
      "source": [
        "model = tf.keras.Sequential([keras.layers.Dense(units=1, input_shape=[1])])"
      ],
      "execution_count": 0,
      "outputs": []
    },
    {
      "cell_type": "markdown",
      "metadata": {
        "id": "6YNhzT4uihyj",
        "colab_type": "text"
      },
      "source": [
        "Now feeding two lists, one with X and another with X"
      ]
    },
    {
      "cell_type": "code",
      "metadata": {
        "id": "qbtdtoNMip3a",
        "colab_type": "code",
        "colab": {}
      },
      "source": [
        "xs = np.array([-1.0, 0.0, 1.0, 2.0, 3.0, 4.0], dtype=float)\n",
        "ys = np.array([-3.0, -1.0, 1.0, 3.0, 5.0, 7.0], dtype=float)"
      ],
      "execution_count": 0,
      "outputs": []
    },
    {
      "cell_type": "markdown",
      "metadata": {
        "id": "5pcp_4zwisPb",
        "colab_type": "text"
      },
      "source": [
        "Now, compile the neural network"
      ]
    },
    {
      "cell_type": "code",
      "metadata": {
        "id": "I-h0PSlIixMr",
        "colab_type": "code",
        "colab": {}
      },
      "source": [
        "model.compile(optimizer='sgd', loss='mean_squared_error')"
      ],
      "execution_count": 0,
      "outputs": []
    },
    {
      "cell_type": "markdown",
      "metadata": {
        "id": "E7Wck6yKizsF",
        "colab_type": "text"
      },
      "source": [
        "Now train the neural net"
      ]
    },
    {
      "cell_type": "code",
      "metadata": {
        "id": "Lu3UCXeoi28f",
        "colab_type": "code",
        "colab": {}
      },
      "source": [
        "model.fit(xs, ys, epochs=1000)"
      ],
      "execution_count": 0,
      "outputs": []
    },
    {
      "cell_type": "markdown",
      "metadata": {
        "id": "U7v2lyT5i6FT",
        "colab_type": "text"
      },
      "source": [
        "Print the result"
      ]
    },
    {
      "cell_type": "code",
      "metadata": {
        "id": "CiU2BzyWi7tz",
        "colab_type": "code",
        "colab": {}
      },
      "source": [
        "print(model.predict([10.0]))"
      ],
      "execution_count": 0,
      "outputs": []
    }
  ]
}